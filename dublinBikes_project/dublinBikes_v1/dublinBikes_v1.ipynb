{
 "cells": [
  {
   "cell_type": "code",
   "execution_count": 1,
   "id": "bc34de01",
   "metadata": {},
   "outputs": [
    {
     "name": "stdout",
     "output_type": "stream",
     "text": [
      "modules loaded\n"
     ]
    }
   ],
   "source": [
    "# import the following modules\n",
    "\n",
    "import requests\n",
    "import pandas as pd\n",
    "import getpass\n",
    "from arcgis.gis import GIS\n",
    "from arcgis.features import FeatureLayerCollection\n",
    "\n",
    "print ('modules loaded')"
   ]
  },
  {
   "cell_type": "code",
   "execution_count": 2,
   "id": "f147a677",
   "metadata": {},
   "outputs": [
    {
     "name": "stdout",
     "output_type": "stream",
     "text": [
      "Enter your ArcGIS Online username: stacey_vernon_build\n",
      "Enter your ArcGIS Online password: ········\n",
      "Logged in as: stacey_vernon_build\n"
     ]
    }
   ],
   "source": [
    "# Log in to ArcGIS Online (AGOL) by requesting the user to input a username and password\n",
    "# documentation on  getpass: https://docs.python.org/3/library/getpass.html\n",
    "\n",
    "def login_AGOL():\n",
    "    # Prompt the user to enter their AGOL username\n",
    "    username = input(\"Enter your ArcGIS Online username: \")\n",
    "\n",
    "    # Prompt the user to enter their AGOL password (without echoing)\n",
    "    password = getpass.getpass(\"Enter your ArcGIS Online password: \")\n",
    "\n",
    "    # Create a GIS object and log in to ArcGIS Online\n",
    "    gis = GIS(\"https://www.arcgis.com\", username, password)\n",
    "\n",
    "    # Return the GIS object\n",
    "    return gis\n",
    "\n",
    "# Example usage:\n",
    "gis = login_AGOL()\n",
    "print(\"Logged in as:\", gis.users.me.username)"
   ]
  },
  {
   "cell_type": "code",
   "execution_count": 3,
   "id": "0b3c4d4a",
   "metadata": {},
   "outputs": [
    {
     "name": "stdout",
     "output_type": "stream",
     "text": [
      "Data Published\n"
     ]
    }
   ],
   "source": [
    "# documentation on using ArcGIS API to create feature sevice from GeoJSON here: https://developers.arcgis.com/python/guide/import-data/\n",
    "# this is a \"static\" GeoJSON file for the Dublin Bike Locatins and the Dublin Bike purple zone\n",
    "\n",
    "# set up the feature service properties in AGOL for the stations and zone dataset\n",
    "item_properties = {\n",
    "    \"title\": \"BikeStations_Zones\",  # Provide a title for your item\n",
    "    \"description\": \"Dublin Bike Stations and Zones from GeoJSON\", # add a description to your data\n",
    "    \"tags\": \"dublinBikes\", # add tags to enhance search of your data in AGOL\n",
    "    \"type\": \"GeoJson\" # define the type of data you are trying to publish\n",
    "}\n",
    "\n",
    "# URL to the GeoJSON file\n",
    "geojson_url = \"https://data.smartdublin.ie/dataset/09870e46-26a3-4dc2-b632-4d1fba5092f9/resource/40a718a8-cb99-468d-962b-af4fed4b0def/download/bleeperbike_map.geojson\"\n",
    "geojson_item = gis.content.add(item_properties, geojson_url)\n",
    " \n",
    "# Publish the GeoJSON as a feature layer\n",
    "BikeStationZone_data = geojson_item.publish()\n",
    "\n",
    "print ('Data Published')"
   ]
  },
  {
   "cell_type": "code",
   "execution_count": 5,
   "id": "9bd8a3e6",
   "metadata": {},
   "outputs": [
    {
     "name": "stdout",
     "output_type": "stream",
     "text": [
      "success\n"
     ]
    }
   ],
   "source": [
    "# Dublin bike locations are available as a live dataset, updated every 5 minutes\n",
    "# pull in the Dublin bike locations from the API\n",
    "\n",
    "# API endpoint for bike locations\n",
    "bike_url = \"https://data.smartdublin.ie/bleeperbike-api/last_snapshot/\"\n",
    "\n",
    "# make a request to the API\n",
    "response = requests.get(bike_url)\n",
    "\n",
    "# if the request was successful (status code 201), get the data\n",
    "if response.status_code == 201:\n",
    "    # Parse the JSON response\n",
    "    bikeData = response.json()\n",
    "    \n",
    "print ('success')"
   ]
  },
  {
   "cell_type": "code",
   "execution_count": 9,
   "id": "e17f62da",
   "metadata": {},
   "outputs": [
    {
     "ename": "AttributeError",
     "evalue": "'list' object has no attribute 'type'",
     "output_type": "error",
     "traceback": [
      "\u001b[1;31m---------------------------------------------------------------------------\u001b[0m",
      "\u001b[1;31mAttributeError\u001b[0m                            Traceback (most recent call last)",
      "\u001b[1;32m~\\AppData\\Local\\Temp\\ipykernel_26720\\801113921.py\u001b[0m in \u001b[0;36m<cell line: 2>\u001b[1;34m()\u001b[0m\n\u001b[0;32m      1\u001b[0m \u001b[1;31m# Convert bike data to a feature layer collection\u001b[0m\u001b[1;33m\u001b[0m\u001b[1;33m\u001b[0m\u001b[0m\n\u001b[1;32m----> 2\u001b[1;33m \u001b[0mFL_collection\u001b[0m \u001b[1;33m=\u001b[0m \u001b[0mFeatureLayerCollection\u001b[0m\u001b[1;33m.\u001b[0m\u001b[0mfromitem\u001b[0m\u001b[1;33m(\u001b[0m\u001b[0mbikeData\u001b[0m\u001b[1;33m)\u001b[0m\u001b[1;33m\u001b[0m\u001b[1;33m\u001b[0m\u001b[0m\n\u001b[0m\u001b[0;32m      3\u001b[0m \u001b[1;33m\u001b[0m\u001b[0m\n\u001b[0;32m      4\u001b[0m \u001b[1;31m# Define item properties\u001b[0m\u001b[1;33m\u001b[0m\u001b[1;33m\u001b[0m\u001b[0m\n\u001b[0;32m      5\u001b[0m item_properties = {\n",
      "\u001b[1;32mC:\\ProgramData\\ArcGIS\\ArcGISPro\\bin\\Python\\envs\\arcgispro-py3\\lib\\site-packages\\arcgis\\gis\\__init__.py\u001b[0m in \u001b[0;36mfromitem\u001b[1;34m(cls, item)\u001b[0m\n\u001b[0;32m  16861\u001b[0m \u001b[1;33m\u001b[0m\u001b[0m\n\u001b[0;32m  16862\u001b[0m         \"\"\"\n\u001b[1;32m> 16863\u001b[1;33m         \u001b[1;32mif\u001b[0m \u001b[1;32mnot\u001b[0m \u001b[0mitem\u001b[0m\u001b[1;33m.\u001b[0m\u001b[0mtype\u001b[0m\u001b[1;33m.\u001b[0m\u001b[0mlower\u001b[0m\u001b[1;33m(\u001b[0m\u001b[1;33m)\u001b[0m\u001b[1;33m.\u001b[0m\u001b[0mendswith\u001b[0m\u001b[1;33m(\u001b[0m\u001b[1;34m\"service\"\u001b[0m\u001b[1;33m)\u001b[0m\u001b[1;33m:\u001b[0m\u001b[1;33m\u001b[0m\u001b[1;33m\u001b[0m\u001b[0m\n\u001b[0m\u001b[0;32m  16864\u001b[0m             \u001b[1;32mraise\u001b[0m \u001b[0mTypeError\u001b[0m\u001b[1;33m(\u001b[0m\u001b[1;34m\"item must be a type of service, not \"\u001b[0m \u001b[1;33m+\u001b[0m \u001b[0mitem\u001b[0m\u001b[1;33m.\u001b[0m\u001b[0mtype\u001b[0m\u001b[1;33m)\u001b[0m\u001b[1;33m\u001b[0m\u001b[1;33m\u001b[0m\u001b[0m\n\u001b[0;32m  16865\u001b[0m         \u001b[1;32mreturn\u001b[0m \u001b[0mcls\u001b[0m\u001b[1;33m(\u001b[0m\u001b[0mitem\u001b[0m\u001b[1;33m.\u001b[0m\u001b[0murl\u001b[0m\u001b[1;33m,\u001b[0m \u001b[0mitem\u001b[0m\u001b[1;33m.\u001b[0m\u001b[0m_gis\u001b[0m\u001b[1;33m)\u001b[0m\u001b[1;33m\u001b[0m\u001b[1;33m\u001b[0m\u001b[0m\n",
      "\u001b[1;31mAttributeError\u001b[0m: 'list' object has no attribute 'type'"
     ]
    }
   ],
   "source": [
    "# Convert bike data to a feature layer collection\n",
    "FL_collection = FeatureLayerCollection.fromitem(bikeData)\n",
    "\n",
    "# Define item properties\n",
    "item_properties = {\n",
    "    \"title\": \"Dublin Bike Locations\",\n",
    "    \"description\": \"Dublin bike locations obtained from Smart Dublin API\",\n",
    "    \"tags\": \"Dublin, Bike, Locations\",\n",
    "}\n",
    "\n",
    "# Publish feature layer collection to ArcGIS Online\n",
    "published_item = FL_collection.manager.publish(\n",
    "    overwrite=True,\n",
    "    tags=item_properties[\"tags\"],\n",
    "    description=item_properties[\"description\"],\n",
    "    thumbnail=None  # You can provide a thumbnail image if needed\n",
    ")\n",
    "\n",
    "# Share the feature layer collection\n",
    "published_item.share(org=True)  # Share with your organization\n",
    "\n",
    "print(\"Feature service created successfully:\", published_item)\n"
   ]
  },
  {
   "cell_type": "code",
   "execution_count": null,
   "id": "772d388a",
   "metadata": {},
   "outputs": [],
   "source": [
    "# convert JSON data to a dataframe\n",
    "# bike_df = pd.DataFrame(bikeData)"
   ]
  },
  {
   "cell_type": "code",
   "execution_count": null,
   "id": "293e4623",
   "metadata": {},
   "outputs": [],
   "source": [
    "# show the first rows of data\n",
    "# bike_df.head"
   ]
  },
  {
   "cell_type": "code",
   "execution_count": 61,
   "id": "f453cc2d",
   "metadata": {},
   "outputs": [
    {
     "name": "stdout",
     "output_type": "stream",
     "text": [
      "Failed to create feature service: 'ContentManager' object has no attribute 'create_from_xy'\n"
     ]
    }
   ],
   "source": [
    "try:\n",
    "    # set up the feature service properties in AGOL for the bike locations dataset\n",
    "    item_properties = {\n",
    "        \"title\": \"Dublin Bike Locations\",\n",
    "        \"description\": \"Dublin bike locations obtained from Smart Dublin API\",\n",
    "        \"tags\": \"Dublin, Bike, Locations\",\n",
    "    }\n",
    "\n",
    "    feature_layer_collection = gis.content.create_from_xy(bike_data[\"features\"], item_properties=item_properties)\n",
    "\n",
    "    # Share the feature layer collection\n",
    "    feature_layer_collection.share(org=True)\n",
    "\n",
    "    print(\"Feature service created successfully:\", feature_layer_collection)\n",
    "except Exception as e:\n",
    "    print(\"Failed to create feature service:\", e)\n"
   ]
  },
  {
   "cell_type": "code",
   "execution_count": null,
   "id": "855bcaeb",
   "metadata": {},
   "outputs": [],
   "source": []
  }
 ],
 "metadata": {
  "kernelspec": {
   "display_name": "Python 3 (ipykernel)",
   "language": "python",
   "name": "python3"
  },
  "language_info": {
   "codemirror_mode": {
    "name": "ipython",
    "version": 3
   },
   "file_extension": ".py",
   "mimetype": "text/x-python",
   "name": "python",
   "nbconvert_exporter": "python",
   "pygments_lexer": "ipython3",
   "version": "3.9.16"
  }
 },
 "nbformat": 4,
 "nbformat_minor": 5
}
